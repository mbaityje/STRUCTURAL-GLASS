{
 "cells": [
  {
   "cell_type": "markdown",
   "metadata": {},
   "source": [
    "# Analyze Heavy Correlations\n",
    "\n",
    "This jupyter notebook analyzes one-time correlations calculated from the heavy trajectories of ReadRun.py\n",
    "\n",
    "We use the algorithm for Volterra Equations of the second kind, suggested in the Numerical Recipes, Chapter 18.2  \n",
    "```http://www.aip.de/groups/soe/local/numres/bookcpdf/c18-2.pdf```\n",
    "\n",
    "\n",
    "Observables are:\n",
    "- Self-intermediate scattering function\n",
    "- Mean-square displacement\n",
    "- Force-force correlations\n",
    "- Velocity-velocity correlations\n",
    "- Force-velocity correlations"
   ]
  },
  {
   "cell_type": "code",
   "execution_count": 1,
   "metadata": {},
   "outputs": [
    {
     "data": {
      "text/html": [
       "<style>.container { width:100% !important; }</style>"
      ],
      "text/plain": [
       "<IPython.core.display.HTML object>"
      ]
     },
     "metadata": {},
     "output_type": "display_data"
    }
   ],
   "source": [
    "from IPython.core.display import display, HTML\n",
    "display(HTML(\"<style>.container { width:100% !important; }</style>\"))\n",
    "\n",
    "import sys\n",
    "import os\n",
    "sys.executable\n",
    "from __future__ import print_function\n",
    "import numpy as np\n",
    "import hoomd\n",
    "from hoomd import md\n",
    "import gsd.pygsd\n",
    "import gsd.hoomd\n",
    "import lib.module_measurements as med\n",
    "import lib.module_potentials as pot\n",
    "from gsd import fl\n",
    "from freud.box import Box\n",
    "from matplotlib import pyplot as plt\n",
    "from scipy.stats import sem\n",
    "import copy\n",
    "import time\n"
   ]
  },
  {
   "cell_type": "markdown",
   "metadata": {},
   "source": [
    "## Import data"
   ]
  },
  {
   "cell_type": "markdown",
   "metadata": {},
   "source": [
    "Parameters"
   ]
  },
  {
   "cell_type": "code",
   "execution_count": 22,
   "metadata": {},
   "outputs": [
    {
     "name": "stdout",
     "output_type": "stream",
     "text": [
      "Block time:  0.0003612041473388672 seconds\n"
     ]
    }
   ],
   "source": [
    "start_time=time.time()\n",
    "\n",
    "T=0.6\n",
    "Natoms=1080\n",
    "maindir='../../OUTPUT/T'+str(T)+'/N'+str(Natoms)+'/'\n",
    "if T==10.0:\n",
    "    samples=[0,1,2,3,4,5,6,7,8,9]\n",
    "#     isoft=int(NcorrFine*0.02)\n",
    "elif T==2.0:\n",
    "    samples=[1,2,3,4,5,6,7,8,9]\n",
    "#     isoft=int(NcorrFine*0.2)\n",
    "elif T==0.6:\n",
    "    samples=[0]\n",
    "#     isoft=int(NcorrFine*0.3)\n",
    "else:\n",
    "    raise ValueError('Please do floating point comparisons properly')\n",
    "# print('isoft =',isoft)\n",
    "nsamples=len(samples)\n",
    "doCd=False\n",
    "\n",
    "EPS=1e-8\n",
    "\n",
    "print('Block time: ',time.time()-start_time,\"seconds\")"
   ]
  },
  {
   "cell_type": "markdown",
   "metadata": {},
   "source": [
    "Read L and dt, and verify that they are consistent"
   ]
  },
  {
   "cell_type": "code",
   "execution_count": 23,
   "metadata": {},
   "outputs": [
    {
     "name": "stdout",
     "output_type": "stream",
     "text": [
      "Block time:  0.022583723068237305 seconds\n"
     ]
    }
   ],
   "source": [
    "start_time=time.time()\n",
    "\n",
    "for isam in range(nsamples):\n",
    "    sam=samples[isam]\n",
    "    name=maindir+'/S'+str(sam)+'/heavyTraj/L.txt'\n",
    "    f=open(name,'rt')\n",
    "    if 0==isam:\n",
    "        L=np.float64(f.readline())\n",
    "        dt=np.float64(f.readline())\n",
    "    else:\n",
    "        Ltemp=np.float64(f.readline())\n",
    "        dttemp=np.float64(f.readline())\n",
    "        if np.abs(L - Ltemp)>EPS: raise ValueError('isam %d has an incompatible L  (%.9g) with sample 0 (%.9g)'%(isam, Ltemp, L))\n",
    "        if np.abs(dt-dttemp)>EPS: raise ValueError('isam %d has an incompatible dt (%.9g) with sample 0 (%.9g)'%(isam,dttemp,dt))\n",
    "    f.close()\n",
    "    \n",
    "#Cleanup\n",
    "if nsamples>1: del Ltemp, dttemp\n",
    "    \n",
    "print('Block time: ',time.time()-start_time,\"seconds\")"
   ]
  },
  {
   "cell_type": "markdown",
   "metadata": {},
   "source": [
    "Read positions, velocities and accelerations of all samples"
   ]
  },
  {
   "cell_type": "code",
   "execution_count": 24,
   "metadata": {},
   "outputs": [
    {
     "name": "stdout",
     "output_type": "stream",
     "text": [
      "There are  28124  configurations in total\n",
      "Block time:  19.80234932899475 seconds\n"
     ]
    }
   ],
   "source": [
    "start_time=time.time()\n",
    "\n",
    "all_times=[]\n",
    "all_pos=[]\n",
    "all_vel=[]\n",
    "all_acc=[]\n",
    "ntimes=np.zeros(nsamples,dtype=int)\n",
    "for isam in range(nsamples):\n",
    "    sam=samples[isam]\n",
    "    sampledir=maindir+'/S'+str(sam)+'/heavyTraj/'\n",
    "    #Read list of times\n",
    "    timesName=sampledir+'times.txt'\n",
    "    timelist=np.loadtxt(timesName)\n",
    "    ntimes[isam]=len(timelist)\n",
    "    print('There are ',ntimes[isam],' configurations in total')\n",
    "\n",
    "    \n",
    "    #Read accelerations\n",
    "    pos = []\n",
    "    vel = []\n",
    "    acc = []\n",
    "    fpos=open(sampledir+'/pos.npy','rb')\n",
    "    fvel=open(sampledir+'/vel.npy','rb')\n",
    "    facc=open(sampledir+'/acc.npy','rb')\n",
    "        \n",
    "    for i in range(ntimes[isam]):\n",
    "        pos.append(np.load(fpos))\n",
    "        vel.append(np.load(fvel))\n",
    "        acc.append(np.load(facc))\n",
    "    fpos.close()\n",
    "    fvel.close()\n",
    "    facc.close()\n",
    "\n",
    "    \n",
    "    #Relevant quantities\n",
    "    if 0==isam:\n",
    "        Natoms=len(pos[0])\n",
    "    elif Natoms!=len(pos[0]): \n",
    "        raise ValueError('isam %d has an inconsistent Natoms=%d, inconsistent with sample 0 that has %d'%(isam,len(pos[0]),Natoms))\n",
    "    initialPositions=pos[0]\n",
    "    all_times.append(timelist)\n",
    "    all_pos.append(pos)\n",
    "    all_vel.append(vel)\n",
    "    all_acc.append(acc)\n",
    "\n",
    "del pos,vel,acc,timelist\n",
    "    \n",
    "all_pos=np.array(all_pos)\n",
    "all_vel=np.array(all_vel)\n",
    "all_acc=np.array(all_acc)\n",
    "\n",
    "print('Block time: ',time.time()-start_time,\"seconds\")"
   ]
  },
  {
   "cell_type": "markdown",
   "metadata": {},
   "source": [
    "Waiting times"
   ]
  },
  {
   "cell_type": "code",
   "execution_count": 25,
   "metadata": {},
   "outputs": [
    {
     "name": "stdout",
     "output_type": "stream",
     "text": [
      "ntw:  [575]\n",
      "Block time:  0.001146078109741211 seconds\n"
     ]
    }
   ],
   "source": [
    "start_time=time.time()\n",
    "\n",
    "#number of trajectory starting times for each sample\n",
    "ntw=np.zeros(nsamples,dtype=np.int)\n",
    "twlist=[]\n",
    "for isam in range(nsamples):\n",
    "    twlist.append(np.unique(all_times[isam][:,0]))\n",
    "    ntw[isam]=len(twlist[isam])   \n",
    "print(\"ntw: \",ntw)\n",
    "\n",
    "print('Block time: ',time.time()-start_time,\"seconds\")"
   ]
  },
  {
   "cell_type": "markdown",
   "metadata": {},
   "source": [
    "Sort Observables"
   ]
  },
  {
   "cell_type": "code",
   "execution_count": 26,
   "metadata": {
    "scrolled": true
   },
   "outputs": [
    {
     "name": "stdout",
     "output_type": "stream",
     "text": [
      "(1, 28124, 1080, 3)\n",
      "ntw: 575  ntw: 573\n",
      "ntw must be the same for all samples:  [573]\n",
      "nt  must be the same for all samples:  [49]\n",
      "(1, 573, 49, 1080, 3)\n",
      "(1, 573, 49, 1080, 3)\n",
      "(1, 573, 49, 1080, 3)\n",
      "Block time:  0.57527756690979 seconds\n"
     ]
    }
   ],
   "source": [
    "start_time=time.time()\n",
    "\n",
    "nt=np.zeros(nsamples,dtype=np.int)\n",
    "tlist  =[]\n",
    "poslist=[]\n",
    "vellist=[]\n",
    "acclist=[]\n",
    "print(np.shape(all_pos))\n",
    "for isam in range(nsamples):    \n",
    "    tlist_sam  =[]\n",
    "    poslist_sam=[]\n",
    "    vellist_sam=[]\n",
    "    acclist_sam=[]\n",
    "    nt[isam]=0\n",
    "    for itw in range(ntw[isam]):\n",
    "        tw=twlist[isam][itw]\n",
    "        this_tw=np.where(all_times[isam][:,0]==tw)\n",
    "        first=this_tw[0][0]\n",
    "        last=this_tw[0][-1]+1\n",
    "        if last-first>nt[isam]:\n",
    "            nt[isam]=last-first\n",
    "            tlist_sam=np.array(all_times[isam][first:last][:,1]-all_times[isam][first][1], dtype=np.int64)\n",
    "        poslist_sam.append(all_pos[isam][first:last])\n",
    "        vellist_sam.append(all_vel[isam][first:last])\n",
    "        acclist_sam.append(all_acc[isam][first:last])\n",
    "    \n",
    "    #Remove incomplete entries\n",
    "    for itw in np.arange(ntw[isam]-1,-1,-1):\n",
    "        if len(poslist_sam[itw]) != nt[isam]:\n",
    "            assert(len(vellist_sam[itw]) == len(poslist_sam[itw]))\n",
    "            assert(len(acclist_sam[itw]) == len(poslist_sam[itw]))\n",
    "            del poslist_sam[itw]\n",
    "            del vellist_sam[itw]\n",
    "            del acclist_sam[itw]\n",
    "            twlist[isam]=np.delete(twlist[isam],itw)\n",
    "\n",
    "    #poslist, vellist and acclist have the shape: [itw, it, particle, component]\n",
    "\n",
    "    print('ntw:',ntw[isam],end='  ')\n",
    "    ntw[isam]=len(twlist[isam])\n",
    "    print('ntw:',ntw[isam])\n",
    "\n",
    "    tlist.append(tlist_sam)\n",
    "    poslist.append(poslist_sam)\n",
    "    vellist.append(vellist_sam)\n",
    "    acclist.append(acclist_sam)\n",
    "del poslist_sam,vellist_sam,acclist_sam,tlist_sam\n",
    "\n",
    "#The following objects should be of size [nsamples, ntw, nt, Natoms, Dim]\n",
    "print('ntw must be the same for all samples: ',ntw)\n",
    "print('nt  must be the same for all samples: ',nt)\n",
    "print(np.shape(poslist))\n",
    "print(np.shape(vellist))\n",
    "print(np.shape(acclist))\n",
    "\n",
    "print('Block time: ',time.time()-start_time,\"seconds\")"
   ]
  },
  {
   "cell_type": "markdown",
   "metadata": {},
   "source": [
    "## Calculate observables"
   ]
  },
  {
   "cell_type": "raw",
   "metadata": {},
   "source": [
    "To calculate Cd we need to define a hoomd simulation context"
   ]
  },
  {
   "cell_type": "code",
   "execution_count": 27,
   "metadata": {},
   "outputs": [
    {
     "name": "stdout",
     "output_type": "stream",
     "text": [
      "notice(2): Group \"all\" created containing 1080 particles\n",
      "Block time:  0.021213293075561523 seconds\n"
     ]
    }
   ],
   "source": [
    "start_time=time.time()\n",
    "\n",
    "hoomd.context.initialize('--mode=cpu');\n",
    "\n",
    "#READ THERMALIZED SYSTEM (for copying particle types and creating snapshots) AND POTENTIAL\n",
    "sam=0\n",
    "system = hoomd.init.read_gsd(filename=maindir+'/S'+str(sam)+'/thermalized.gsd')\n",
    "assert(np.abs(L-system.box.Lx)<EPS)\n",
    "pair=pot.LJ(md.nlist.cell(), type='KAshort')\n",
    "snapA=system.take_snapshot()\n",
    "snapB=system.take_snapshot()\n",
    "\n",
    "print('Block time: ',time.time()-start_time,\"seconds\")"
   ]
  },
  {
   "cell_type": "code",
   "execution_count": 28,
   "metadata": {},
   "outputs": [
    {
     "name": "stdout",
     "output_type": "stream",
     "text": [
      "Block time:  327.95208621025085 seconds\n"
     ]
    }
   ],
   "source": [
    "start_time=time.time()\n",
    "\n",
    "#Wave vector for the self-intermediate scattring function\n",
    "# k =[2 pi/L](n1,n2,n3) and permutations\n",
    "n1=1; n2=3; n3=4\n",
    "\n",
    "msd = np.zeros((nsamples, max(ntw), max(nt)), dtype=np.float64)\n",
    "Fk  = np.zeros((nsamples, max(ntw), max(nt)), dtype=np.float64)\n",
    "CPP = np.zeros((nsamples, max(ntw), max(nt)), dtype=np.float64)\n",
    "CFP = np.zeros((nsamples, max(ntw), max(nt)), dtype=np.float64)\n",
    "CFF = np.zeros((nsamples, max(ntw), max(nt)), dtype=np.float64)\n",
    "# Cd  = np.zeros((nsamples, max(ntw), max(nt)), dtype=np.float64)\n",
    "obs=[{} for isam in range(nsamples+1)]\n",
    "for isam in range(nsamples):\n",
    "    for itw in range(ntw[isam]):\n",
    "        initialPositions[:]=poslist[isam][itw][0][:]\n",
    "        snapA.particles.position[:] = initialPositions[:]\n",
    "        for iframe in range(0, nt[isam]):\n",
    "#             print('\\risam: %d, itw: %d, it: %d, Cd= %g'%(isam,itw,iframe,Cd[isam][itw][iframe]))\n",
    "            snapB.particles.position[:] = poslist[isam][itw][iframe][:]\n",
    "            if doCd: Cd[isam][itw][iframe]=pair.Cd_fast(snapA=snapA,snapB=snapB,beta=1./T)            \n",
    "            msd[isam][itw][iframe] = med.PeriodicSquareDistance(poslist[isam][itw][iframe], initialPositions, L)/Natoms\n",
    "            all_displacements= med.PeriodicDisplacement(poslist[isam][itw][iframe], initialPositions, L)\n",
    "            Fk[isam][itw][iframe]  = med.ComputeFkt(n1, n2, n3, L, all_displacements)\n",
    "\n",
    "        CPP[isam][itw]=np.array([np.mean([np.inner(vellist[isam][itw][0][atom],vellist[isam][itw][time][atom]) for atom in range(Natoms)]) for time in range(nt[isam])])/3.\n",
    "        CFP[isam][itw]=np.array([np.mean([np.inner(acclist[isam][itw][0][atom],vellist[isam][itw][time][atom]) for atom in range(Natoms)]) for time in range(nt[isam])])/3.\n",
    "        CFF[isam][itw]=np.array([np.mean([np.inner(acclist[isam][itw][0][atom],acclist[isam][itw][time][atom]) for atom in range(Natoms)]) for time in range(nt[isam])])/3.\n",
    "\n",
    "    obs[isam]={\n",
    "        'msd':{'mean': np.mean(msd[isam],axis=0), 'err': sem(msd[isam], axis=0)},\n",
    "        'Fk' :{'mean': np.mean(Fk [isam],axis=0), 'err': sem(Fk [isam], axis=0)},\n",
    "        'CPP':{'mean': np.mean(CPP[isam],axis=0), 'err': sem(CPP[isam], axis=0)},\n",
    "        'CFP':{'mean': np.mean(CFP[isam],axis=0), 'err': sem(CFP[isam], axis=0)},\n",
    "        'CFF':{'mean': np.mean(CFF[isam],axis=0), 'err': sem(CFF[isam], axis=0)},\n",
    "    }\n",
    "    if doCd: \n",
    "        obs[isam]['Cd']={'mean': np.mean(Cd [isam],axis=0), 'err': sem(Cd [isam], axis=0)},\n",
    "\n",
    "print('Block time: ',time.time()-start_time,\"seconds\")"
   ]
  },
  {
   "cell_type": "code",
   "execution_count": 29,
   "metadata": {},
   "outputs": [
    {
     "name": "stdout",
     "output_type": "stream",
     "text": [
      "Block time:  0.002679109573364258 seconds\n"
     ]
    }
   ],
   "source": [
    "start_time=time.time()\n",
    "\n",
    "#Obs is an nsamples-long list. Append to it the average over the samples\n",
    "obs[nsamples]={\n",
    "        'msd':{'mean': np.mean(msd,axis=(0,1)), 'err': sem(np.mean(msd, axis=0), axis=0)},\n",
    "        'Fk' :{'mean': np.mean(Fk ,axis=(0,1)), 'err': sem(np.mean(Fk,  axis=0), axis=0)},\n",
    "        'CPP':{'mean': np.mean(CPP,axis=(0,1)), 'err': sem(np.mean(CPP, axis=0), axis=0)},\n",
    "        'CFP':{'mean': np.mean(CFP,axis=(0,1)), 'err': sem(np.mean(CFP, axis=0), axis=0)},\n",
    "        'CFF':{'mean': np.mean(CFF,axis=(0,1)), 'err': sem(np.mean(CFF, axis=0), axis=0)},\n",
    "    }\n",
    "if doCd: \n",
    "    obs[nsamples]['Cd']={'mean': np.mean(Cd ,axis=(0,1)), 'err': sem(np.mean(Cd , axis=0), axis=0)},\n",
    "\n",
    "x=tlist[0]*dt\n",
    "print('Block time: ',time.time()-start_time,\"seconds\")"
   ]
  },
  {
   "cell_type": "markdown",
   "metadata": {},
   "source": [
    "## Plot"
   ]
  },
  {
   "cell_type": "markdown",
   "metadata": {},
   "source": [
    "### Mean Square Displacement"
   ]
  },
  {
   "cell_type": "code",
   "execution_count": 30,
   "metadata": {},
   "outputs": [
    {
     "data": {
      "image/png": "[encoded data removed]",
      "text/plain": [
       "<Figure size 432x288 with 1 Axes>"
      ]
     },
     "metadata": {},
     "output_type": "display_data"
    }
   ],
   "source": [
    "fig=plt.figure(figsize=None)\n",
    "ax=fig.add_subplot(1,1,1)\n",
    "ax.set_xscale('log', nonposx='clip')\n",
    "ax.set_yscale('log', nonposy='clip')\n",
    "plt.plot(x,3*x,label='$\\sim t$',linestyle='--',color='gray')\n",
    "plt.plot(x,70*np.square(x),label='$\\sim t^2$',linestyle=':',color='gray')\n",
    "plt.plot(x,L*np.ones(len(x)),label='$L$',color='black')\n",
    "plt.ylabel('$\\Delta^2(t)$')\n",
    "plt.xlabel('$t$')\n",
    "plt.ylim((1e-4,10))\n",
    "for isam in range(nsamples):\n",
    "    plt.errorbar(x,obs[isam]['msd']['mean'],yerr=obs[isam]['msd']['err'],marker='.')\n",
    "    for itw in range(ntw[isam]):\n",
    "        plt.plot(x,msd[isam][itw], color='orange')\n",
    "plt.errorbar(x,obs[nsamples]['msd']['mean'],yerr=obs[nsamples]['msd']['err'],label='Average', marker='.',linewidth=5, color='blue')\n",
    "\n",
    "plt.legend()\n",
    "plt.show()\n",
    "\n"
   ]
  },
  {
   "cell_type": "markdown",
   "metadata": {},
   "source": [
    "### Self-intermediate scattering function"
   ]
  },
  {
   "cell_type": "code",
   "execution_count": 31,
   "metadata": {},
   "outputs": [
    {
     "data": {
      "image/png": "[encoded data removed]",
      "text/plain": [
       "<Figure size 432x288 with 1 Axes>"
      ]
     },
     "metadata": {},
     "output_type": "display_data"
    }
   ],
   "source": [
    "fig=plt.figure(figsize=None)\n",
    "ax=fig.add_subplot(1,1,1)\n",
    "ax.set_xscale('log', nonposx='clip')\n",
    "plt.ylabel('$\\Delta^2(t)$')\n",
    "plt.xlabel('$t$')\n",
    "for isam in range(nsamples):\n",
    "    for itw in range(0,ntw[isam]):\n",
    "        plt.plot(x,Fk[isam][itw], color='orange')\n",
    "    plt.errorbar(x,obs[isam]['Fk']['mean'],yerr=obs[isam]['Fk']['err'],label='sam'+str(samples[isam]),marker='.')\n",
    "    #Highlight the first and the last tw, to show that there is no drift\n",
    "#     plt.plot(x,Fk[isam][0], color='red',label=r'first $t_w$')\n",
    "#     plt.plot(x,Fk[isam][ntw[isam]-1], color='darkred', label='last $t_w$')\n",
    "plt.errorbar(x,obs[nsamples]['Fk']['mean'],yerr=obs[nsamples]['Fk']['err'],label='Average',marker='.',linewidth=5, color='blue')\n",
    "\n",
    "\n",
    "plt.legend()\n",
    "plt.ylabel('$F_k(t)$')\n",
    "plt.xlabel('$t$')\n",
    "plt.grid()\n",
    "plt.show()\n",
    "\n"
   ]
  },
  {
   "cell_type": "markdown",
   "metadata": {},
   "source": [
    "### Momentum-momentum correlation function"
   ]
  },
  {
   "cell_type": "code",
   "execution_count": 32,
   "metadata": {},
   "outputs": [
    {
     "data": {
      "image/png": "[encoded data removed]",
      "text/plain": [
       "<Figure size 432x288 with 1 Axes>"
      ]
     },
     "metadata": {},
     "output_type": "display_data"
    }
   ],
   "source": [
    "fig=plt.figure(figsize=None)\n",
    "ax=fig.add_subplot(1,1,1)\n",
    "ax.set_xscale('log', nonposx='mask')\n",
    "\n",
    "for isam in range(nsamples):\n",
    "    plt.errorbar(x,obs[isam]['CPP']['mean'],yerr=obs[isam]['CPP']['err'],marker='.')\n",
    "    for itw in range(ntw[isam]):\n",
    "        plt.plot(x,CPP[isam][itw], color='orange')\n",
    "plt.errorbar(x,obs[nsamples]['CPP']['mean'],yerr=obs[nsamples]['CPP']['err'],marker='.',label='average', linewidth=5, color='blue')\n",
    "plt.legend()\n",
    "plt.ylabel('$\\mathcal{C}(t)$')\n",
    "plt.xlabel('$t$')\n",
    "plt.grid()\n",
    "plt.show()"
   ]
  },
  {
   "cell_type": "markdown",
   "metadata": {},
   "source": [
    "### Force-momentum correlation function"
   ]
  },
  {
   "cell_type": "code",
   "execution_count": 33,
   "metadata": {},
   "outputs": [
    {
     "data": {
      "image/png": "[encoded data removed]",
      "text/plain": [
       "<Figure size 432x288 with 1 Axes>"
      ]
     },
     "metadata": {},
     "output_type": "display_data"
    }
   ],
   "source": [
    "fig=plt.figure(figsize=None)\n",
    "ax=fig.add_subplot(1,1,1)\n",
    "ax.set_xscale('log', nonposx='mask')\n",
    "for isam in range(nsamples):\n",
    "    plt.errorbar(x,obs[isam]['CFP']['mean'],yerr=obs[isam]['CFP']['err'],marker='.')\n",
    "    for itw in range(ntw[isam]):\n",
    "        plt.plot(x,CFP[isam][itw], color='orange')\n",
    "plt.errorbar(x,obs[nsamples]['CFP']['mean'],yerr=obs[nsamples]['CFP']['err'],marker='.',label='average', linewidth=5, color='blue')\n",
    "plt.legend()\n",
    "plt.ylabel('$\\mathcal{C}(t)$')\n",
    "plt.xlabel('$t$')\n",
    "plt.grid()\n",
    "plt.show()"
   ]
  },
  {
   "cell_type": "markdown",
   "metadata": {},
   "source": [
    "### Force-force correlation function"
   ]
  },
  {
   "cell_type": "code",
   "execution_count": 34,
   "metadata": {},
   "outputs": [
    {
     "data": {
      "image/png": "[encoded data removed]",
      "text/plain": [
       "<Figure size 432x288 with 1 Axes>"
      ]
     },
     "metadata": {},
     "output_type": "display_data"
    }
   ],
   "source": [
    "fig=plt.figure(figsize=None)\n",
    "ax = fig.add_subplot(1, 1, 1)\n",
    "ax.set_xscale(\"log\", nonposx='mask')\n",
    "for isam in range(nsamples):    \n",
    "    plt.errorbar(x,obs[isam]['CFF']['mean'], yerr=obs[isam]['CFF']['err'],marker='.')\n",
    "    for itw in range(ntw[isam]):\n",
    "        plt.plot(x,CFF[isam][itw], color='orange')\n",
    "plt.errorbar(x,obs[nsamples]['CFF']['mean'], yerr=obs[nsamples]['CFF']['err'],marker='.',label='average', linewidth=5, color='blue')\n",
    "\n",
    "plt.legend()\n",
    "plt.ylabel('$\\mathcal{C}(t)$')\n",
    "plt.xlabel('$t$')\n",
    "plt.grid()\n",
    "plt.show()\n"
   ]
  },
  {
   "cell_type": "markdown",
   "metadata": {},
   "source": [
    "# Noise correlation functions"
   ]
  },
  {
   "cell_type": "markdown",
   "metadata": {},
   "source": [
    "### Integration with linear grid (though the data are logarithmic)"
   ]
  },
  {
   "cell_type": "markdown",
   "metadata": {},
   "source": [
    "Initialization"
   ]
  },
  {
   "cell_type": "code",
   "execution_count": 111,
   "metadata": {},
   "outputs": [
    {
     "name": "stdout",
     "output_type": "stream",
     "text": [
      "NcorrFine =  100000\n",
      "xmax = 2499.9975\n",
      "xmax effettivo = 249.99975\n",
      "Block time:  0.021780014038085938 seconds\n"
     ]
    }
   ],
   "source": [
    "start_time=time.time()\n",
    "\n",
    "from scipy.interpolate import interp1d\n",
    "\n",
    "start_time=time.time()\n",
    "#The linear grid\n",
    "dtfine=0.0025\n",
    "xmax=x[-1]\n",
    "reduce=10\n",
    "xdatafine=np.arange(0, xmax/reduce, dtfine)\n",
    "NcorrFine=len(xdatafine)\n",
    "assert(dtfine==xdatafine[1]-xdatafine[0])\n",
    "print('NcorrFine = ',NcorrFine)\n",
    "print('xmax =',xmax)\n",
    "print('xmax effettivo =',xmax/reduce)\n",
    "\n",
    "#The noise correlation function\n",
    "f=np.zeros(NcorrFine)\n",
    "\n",
    "#The data\n",
    "invT=np.float64(1./T)\n",
    "dtinvT=dtfine*invT\n",
    "interpCFF=interp1d(x, obs[nsamples]['CFF']['mean'], kind='cubic')\n",
    "interpCFP=interp1d(x, obs[nsamples]['CFP']['mean'], kind='cubic')\n",
    "CFP=interpCFP(xdatafine)-obs[nsamples]['CFP']['mean'][0]\n",
    "CFF=interpCFF(xdatafine)\n",
    "\n",
    "#Softening\n",
    "soften=False\n",
    "if soften:\n",
    "    isoft=int(NcorrFine*.1)\n",
    "    print('isoft = ',isoft)\n",
    "    CFP[isoft:]*=[np.exp(-i/100) for i in range(0,NcorrFine-isoft)]\n",
    "    CFF[isoft:]*=[np.exp(-i/100) for i in range(0,NcorrFine-isoft)]\n",
    "\n",
    "g=np.copy(interpCFF(xdatafine))\n",
    "\n",
    "print('Block time: ',time.time()-start_time,\"seconds\")\n",
    "\n"
   ]
  },
  {
   "cell_type": "markdown",
   "metadata": {},
   "source": [
    "Interpolation"
   ]
  },
  {
   "cell_type": "code",
   "execution_count": 131,
   "metadata": {},
   "outputs": [
    {
     "name": "stdout",
     "output_type": "stream",
     "text": [
      "istar =  600 ;  xdatafine[istar] = 1.5\n",
      "Block time:  19.307383060455322 seconds\n"
     ]
    }
   ],
   "source": [
    "start_time=time.time()\n",
    "\n",
    "def trapeze(i,istar=None):\n",
    "    temp=0.5*CFP[i]*f[0]\n",
    "    i_ini=0 if istar==None else max(0,i-istar)\n",
    "    for j in range(i_ini, i-1):\n",
    "        temp+=CFP[i-j]*f[j]\n",
    "    return g[i]+dtinvT*temp\n",
    "\n",
    "f[0]=g[0]\n",
    "istar=600 #for i>istar the kernels have no signal\n",
    "print('istar = ',istar,\";  xdatafine[istar] =\",xdatafine[istar])\n",
    "for i in range(1,NcorrFine):\n",
    "    f[i]=trapeze(i,istar)\n",
    "    \n",
    "print('Block time: ',time.time()-start_time,\"seconds\")"
   ]
  },
  {
   "cell_type": "code",
   "execution_count": 135,
   "metadata": {},
   "outputs": [
    {
     "data": {
      "image/png": "[encoded data removed]",
      "text/plain": [
       "<Figure size 432x288 with 1 Axes>"
      ]
     },
     "metadata": {},
     "output_type": "display_data"
    }
   ],
   "source": [
    "fig=plt.figure(figsize=None)\n",
    "ax = fig.add_subplot(1, 1, 1)\n",
    "ax.set_xscale(\"log\", nonposx='mask')\n",
    "plt.ylim((-.2,1))\n",
    "plt.plot(xdatafine,f/f[0], label='$T$=%g'%T)\n",
    "plt.plot(xdatafineT2,fT2/fT2[0], label='$T$=2.0')\n",
    "plt.plot(xdatafine,np.zeros(len(xdatafine)), color='black')\n",
    "plt.legend()\n",
    "plt.show()\n"
   ]
  },
  {
   "cell_type": "code",
   "execution_count": null,
   "metadata": {},
   "outputs": [],
   "source": [
    "fT2=np.copy(f)\n",
    "xdatafineT2=np.copy(xdatafine)"
   ]
  },
  {
   "cell_type": "code",
   "execution_count": null,
   "metadata": {},
   "outputs": [],
   "source": []
  }
 ],
 "metadata": {
  "kernelspec": {
   "display_name": "Python 3",
   "language": "python",
   "name": "python3"
  },
  "language_info": {
   "codemirror_mode": {
    "name": "ipython",
    "version": 3
   },
   "file_extension": ".py",
   "mimetype": "text/x-python",
   "name": "python",
   "nbconvert_exporter": "python",
   "pygments_lexer": "ipython3",
   "version": "3.6.6"
  }
 },
 "nbformat": 4,
 "nbformat_minor": 2
}
